{
 "cells": [
  {
   "cell_type": "code",
   "execution_count": 109,
   "metadata": {},
   "outputs": [],
   "source": [
    "from collections import namedtuple, deque #namedtuple: per definire una struttura semplice e immutabile chiamata Action, che rappresenta una mossa del puzzle.\n",
    "from heapq import heappush, heappop #heapq: per gestire la coda di priorità (necessaria per algoritmi come A* e Greedy).\n",
    "import numpy as np #numpy: per manipolare matrici, dato che il puzzle è rappresentato come una griglia 2D.\n",
    "from random import choice\n",
    "\n",
    "PUZZLE_DIM = 3\n",
    "RANDOMIZE_STEPS = 1000"
   ]
  },
  {
   "cell_type": "code",
   "execution_count": 110,
   "metadata": {},
   "outputs": [],
   "source": [
    "# Define an action as a namedtuple to represent a move in the puzzle\n",
    "# `pos1` is the position of the empty tile (0), and `pos2` is the tile to swap with.\n",
    "Action = namedtuple('Action', ['pos1', 'pos2'])"
   ]
  },
  {
   "cell_type": "code",
   "execution_count": 111,
   "metadata": {},
   "outputs": [],
   "source": [
    "# Class to represent a puzzle state\n",
    "class State:\n",
    "    def __init__(self, content: np.ndarray):\n",
    "        # `content` is the 2D NumPy array representing the current puzzle layout\n",
    "        self.content = content\n",
    "        # `hash` provides a unique identifier for this state\n",
    "        self.hash = hash(content.tobytes())\n",
    "\n",
    "    # Hashing the state allows us to use it in sets or dictionaries\n",
    "    def __hash__(self):\n",
    "        return self.hash\n",
    "\n",
    "    # Two states are equal if their content is the same\n",
    "    def __eq__(self, other):\n",
    "        return np.array_equal(self.content, other.content)\n",
    "\n",
    "    # Required for priority queues; compares the hash values\n",
    "    def __lt__(self, other):\n",
    "        return self.hash < other.hash\n"
   ]
  },
  {
   "cell_type": "code",
   "execution_count": 112,
   "metadata": {},
   "outputs": [],
   "source": [
    "# Get all valid actions for the current state\n",
    "def available_actions(state: np.ndarray) -> list[Action]:\n",
    "    # Find the position of the empty tile (0)\n",
    "    x, y = np.argwhere(state == 0)[0]\n",
    "    actions = []\n",
    "    # Check possible moves: up, down, left, right\n",
    "    if x > 0: \n",
    "        actions.append(Action((x, y), (x - 1, y)))  # Move up\n",
    "    if x < state.shape[0] - 1: \n",
    "        actions.append(Action((x, y), (x + 1, y)))  # Move down\n",
    "    if y > 0: \n",
    "        actions.append(Action((x, y), (x, y - 1)))  # Move left\n",
    "    if y < state.shape[1] - 1: \n",
    "        actions.append(Action((x, y), (x, y + 1)))  # Move right\n",
    "    return actions\n",
    "\n",
    "# Apply an action to the current state and return the resulting new state\n",
    "def do_action(state: np.ndarray, action: Action) -> np.ndarray:\n",
    "    new_state = state.copy()\n",
    "    # Swap the tiles between `pos1` and `pos2`\n",
    "    new_state[action.pos1], new_state[action.pos2] = new_state[action.pos2], new_state[action.pos1]\n",
    "    return new_state\n",
    "\n",
    "# Check if a given puzzle state is solvable\n",
    "def is_solvable(state: np.ndarray) -> bool:\n",
    "    # Flatten the 2D array into a 1D list to count inversions\n",
    "    flattened = state.flatten()\n",
    "    inversions = sum(\n",
    "        1 for i in range(len(flattened)) for j in range(i + 1, len(flattened))\n",
    "        if flattened[i] and flattened[j] and flattened[i] > flattened[j]\n",
    "    )\n",
    "    # A puzzle is solvable if the number of inversions is even\n",
    "    return inversions % 2 == 0"
   ]
  },
  {
   "cell_type": "code",
   "execution_count": 113,
   "metadata": {},
   "outputs": [],
   "source": [
    "# Heuristic: Calculate Manhattan distance for all tiles\n",
    "def manhattan_distance(state: np.ndarray, goal: np.ndarray) -> int:\n",
    "    distance = 0\n",
    "    for value in range(1, state.size):  # Exclude the empty tile (0)\n",
    "        # Find the current and goal positions of the tile\n",
    "        x1, y1 = np.argwhere(state == value)[0]\n",
    "        x2, y2 = np.argwhere(goal == value)[0]\n",
    "        # Add the Manhattan distance (|x1-x2| + |y1-y2|)\n",
    "        distance += abs(x1 - x2) + abs(y1 - y2)\n",
    "    return distance\n",
    "\n",
    "# Heuristic: Count the number of misplaced tiles\n",
    "def misplaced_tiles(state: np.ndarray, goal: np.ndarray) -> int:\n",
    "    # Compare each tile with the goal; subtract 1 to exclude the empty tile (0)\n",
    "    return np.sum(state != goal) - 1"
   ]
  },
  {
   "cell_type": "markdown",
   "metadata": {},
   "source": [
    "Breadth-First Search (BFS) algorithm"
   ]
  },
  {
   "cell_type": "code",
   "execution_count": 114,
   "metadata": {},
   "outputs": [],
   "source": [
    "# Breadth-First Search (BFS) algorithm\n",
    "def bfs(start: np.ndarray, goal: np.ndarray) -> list[Action]:\n",
    "    queue = [(State(start), [])]  # Queue contains states and their action paths\n",
    "    visited = set()  # To track visited states\n",
    "    while queue:\n",
    "        current, path = queue.pop(0)  # Explore the oldest state in the queue\n",
    "        if np.array_equal(current.content, goal):  # Check if goal is reached\n",
    "            return path\n",
    "        visited.add(current)  # Mark the state as visited\n",
    "        for action in available_actions(current.content):\n",
    "            neighbor = State(do_action(current.content, action))\n",
    "            if neighbor not in visited:\n",
    "                queue.append((neighbor, path + [action]))\n",
    "    return None"
   ]
  },
  {
   "cell_type": "markdown",
   "metadata": {},
   "source": [
    "A* Search Algorithm"
   ]
  },
  {
   "cell_type": "code",
   "execution_count": 115,
   "metadata": {},
   "outputs": [],
   "source": [
    "# A* Search algorithm\n",
    "def astar(start: np.ndarray, goal: np.ndarray, heuristic) -> list[Action]:\n",
    "    open_set = []\n",
    "    heappush(open_set, (0, State(start), []))  # Priority queue with (cost, state, path)\n",
    "    visited = set()\n",
    "    while open_set:\n",
    "        _, current, path = heappop(open_set)  # Extract the state with the lowest cost\n",
    "        if np.array_equal(current.content, goal):  # Check if goal is reached\n",
    "            return path\n",
    "        visited.add(current)  # Mark the state as visited\n",
    "        for action in available_actions(current.content):\n",
    "            neighbor = State(do_action(current.content, action))\n",
    "            if neighbor not in visited:\n",
    "                # Calculate total cost = path cost + heuristic cost\n",
    "                cost = len(path) + 1 + heuristic(neighbor.content, goal)\n",
    "                heappush(open_set, (cost, neighbor, path + [action]))\n",
    "    return None"
   ]
  },
  {
   "cell_type": "markdown",
   "metadata": {},
   "source": [
    "Greedy Best-First Search algorithm"
   ]
  },
  {
   "cell_type": "code",
   "execution_count": 116,
   "metadata": {},
   "outputs": [],
   "source": [
    "# Greedy Best-First Search algorithm\n",
    "def greedy(start: np.ndarray, goal: np.ndarray, heuristic) -> list[Action]:\n",
    "    open_set = []\n",
    "    heappush(open_set, (0, State(start), []))  # Priority queue with (heuristic cost, state, path)\n",
    "    visited = set()\n",
    "    while open_set:\n",
    "        _, current, path = heappop(open_set)  # Extract the state with the lowest heuristic cost\n",
    "        if np.array_equal(current.content, goal):  # Check if goal is reached\n",
    "            return path\n",
    "        visited.add(current)  # Mark the state as visited\n",
    "        for action in available_actions(current.content):\n",
    "            neighbor = State(do_action(current.content, action))\n",
    "            if neighbor not in visited:\n",
    "                # Use heuristic cost only (ignores path cost)\n",
    "                cost = heuristic(neighbor.content, goal)\n",
    "                heappush(open_set, (cost, neighbor, path + [action]))\n",
    "    return None"
   ]
  },
  {
   "cell_type": "code",
   "execution_count": 117,
   "metadata": {},
   "outputs": [
    {
     "name": "stdout",
     "output_type": "stream",
     "text": [
      "Stato iniziale:\n",
      "[[4 7 1]\n",
      " [5 0 2]\n",
      " [8 3 6]]\n",
      "\n",
      "Solution with BFS:\n",
      "Number of moves: 18\n",
      "\n",
      "Solution with A* (Manhattan Distance):\n",
      "Number of moves: 18\n",
      "\n",
      "Solution with Greedy (Misplaced Tiles):\n",
      "Number of moves: 60\n"
     ]
    }
   ],
   "source": [
    "# Function to generate a random initial state by shuffling the goal state\n",
    "def init_state(goal: np.ndarray) -> np.ndarray:\n",
    "    state = goal.copy()\n",
    "    for _ in range(RANDOMIZE_STEPS):\n",
    "        state = do_action(state, choice(available_actions(state)))\n",
    "    return state\n",
    "\n",
    "\n",
    "def solve_puzzle():\n",
    "    goal = np.arange(1, PUZZLE_DIM**2 + 1).reshape((PUZZLE_DIM, PUZZLE_DIM))\n",
    "    goal[-1, -1] = 0\n",
    "    state = init_state(goal)\n",
    "    \n",
    "    if not is_solvable(state):\n",
    "        print(\"Puzzle non risolvibile!\")\n",
    "        return\n",
    "    \n",
    "    print(\"Stato iniziale:\")\n",
    "    print(state)\n",
    "    print(\"\\nSolution with BFS:\")\n",
    "    bfs_solution = bfs(state, goal)\n",
    "    print(f\"Number of moves: {len(bfs_solution)}\")\n",
    "\n",
    "    print(\"\\nSolution with A* (Manhattan Distance):\")\n",
    "    astar_solution = astar(state, goal, manhattan_distance)\n",
    "    print(f\"Number of moves: {len(astar_solution)}\")\n",
    "\n",
    "    print(\"\\nSolution with Greedy (Misplaced Tiles):\")\n",
    "    greedy_solution = greedy(state, goal, misplaced_tiles)\n",
    "    print(f\"Number of moves: {len(greedy_solution)}\")\n",
    "\n",
    "\n",
    "# Execute the program\n",
    "solve_puzzle()"
   ]
  }
 ],
 "metadata": {
  "kernelspec": {
   "display_name": "CI2024",
   "language": "python",
   "name": "python3"
  },
  "language_info": {
   "codemirror_mode": {
    "name": "ipython",
    "version": 3
   },
   "file_extension": ".py",
   "mimetype": "text/x-python",
   "name": "python",
   "nbconvert_exporter": "python",
   "pygments_lexer": "ipython3",
   "version": "3.12.6"
  }
 },
 "nbformat": 4,
 "nbformat_minor": 2
}
